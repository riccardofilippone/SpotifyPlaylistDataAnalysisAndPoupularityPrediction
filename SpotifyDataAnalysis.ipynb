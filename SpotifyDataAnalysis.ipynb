{
  "nbformat": 4,
  "nbformat_minor": 0,
  "metadata": {
    "colab": {
      "private_outputs": true,
      "provenance": [],
      "authorship_tag": "ABX9TyM5570hb3AzbThtr9jwZWBg"
    },
    "kernelspec": {
      "name": "python3",
      "display_name": "Python 3"
    },
    "language_info": {
      "name": "python"
    }
  },
  "cells": [
    {
      "cell_type": "code",
      "execution_count": null,
      "metadata": {
        "id": "UmCYGwK09_9T"
      },
      "outputs": [],
      "source": [
        "import requests\n",
        "import pandas as pd\n",
        "import matplotlib.pyplot as plt\n",
        "import seaborn as sns\n",
        "\n",
        "# Matplotlib and seaborn graphs style\n",
        "\n",
        "sns.set(style=\"darkgrid\", context=\"paper\")\n",
        "plt.style.use(\"dark_background\")\n",
        "plt.rcParams.update({\"grid.linewidth\": 0.5, \"grid.alpha\": 0.5})\n",
        "\n",
        "%matplotlib inline"
      ]
    },
    {
      "cell_type": "code",
      "source": [
        "# Spotify app keys\n",
        "\n",
        "client_id = \"-\"\n",
        "client_secret = \"-\""
      ],
      "metadata": {
        "id": "JUF1k2wsALlw"
      },
      "execution_count": null,
      "outputs": []
    },
    {
      "cell_type": "code",
      "source": [
        "# Get the access token\n",
        "\n",
        "AUTH_URL = 'https://accounts.spotify.com/api/token'\n",
        "\n",
        "auth_response = requests.post(AUTH_URL, {\n",
        "    'grant_type': 'client_credentials',\n",
        "    'client_id': client_id,\n",
        "    'client_secret': client_secret,\n",
        "})\n",
        "\n",
        "auth_response_data = auth_response.json()\n",
        "\n",
        "access_token = auth_response_data['access_token']"
      ],
      "metadata": {
        "id": "Pr5BBibyBTSs"
      },
      "execution_count": null,
      "outputs": []
    },
    {
      "cell_type": "code",
      "source": [
        "BASE_URL = 'https://api.spotify.com/v1/'\n",
        "\n",
        "headers = {\n",
        "    'Authorization': f'Bearer {access_token}'\n",
        "}"
      ],
      "metadata": {
        "id": "Xke5Gqp5Bbjo"
      },
      "execution_count": null,
      "outputs": []
    },
    {
      "cell_type": "code",
      "source": [
        "# Get the playlist's tracks\n",
        "\n",
        "playlist_id = '-'\n",
        "\n",
        "playlist_items = requests.get(BASE_URL + 'playlists/' + playlist_id + '/tracks', headers=headers)"
      ],
      "metadata": {
        "id": "PFanm4axBlMQ"
      },
      "execution_count": null,
      "outputs": []
    },
    {
      "cell_type": "code",
      "source": [
        "playlist_items = playlist_items.json() # Convert the data to json"
      ],
      "metadata": {
        "id": "9aA9i8ONCIE3"
      },
      "execution_count": null,
      "outputs": []
    },
    {
      "cell_type": "code",
      "source": [
        "df = pd.DataFrame()\n",
        "for item in playlist_items['items']:\n",
        "  track = item['track']\n",
        "\n",
        "  song = requests.get(BASE_URL + 'audio-features/' + str(item['track']['uri']).split(':')[2], headers=headers) # Get the song audio features\n",
        "  song = song.json()\n",
        "\n",
        "  track_df = pd.DataFrame({\n",
        "      'trackname': [track['name']],\n",
        "      'artists': [', '.join(pd.DataFrame(track['artists'])[\"name\"].values)],\n",
        "      'popularity': [track['popularity']],\n",
        "      **song\n",
        "  })\n",
        "\n",
        "  df = pd.concat([df, track_df], ignore_index=True)"
      ],
      "metadata": {
        "id": "sucb6aCVDSWb"
      },
      "execution_count": null,
      "outputs": []
    },
    {
      "cell_type": "code",
      "source": [
        "df.columns.values"
      ],
      "metadata": {
        "id": "W_jqQd2iNHH5"
      },
      "execution_count": null,
      "outputs": []
    },
    {
      "cell_type": "code",
      "source": [
        "# Dont need those columns\n",
        "\n",
        "df.drop(['type', 'id', 'uri', 'track_href', 'time_signature', 'analysis_url'], axis=1, inplace=True)"
      ],
      "metadata": {
        "id": "r48CtOLzNK2P"
      },
      "execution_count": null,
      "outputs": []
    },
    {
      "cell_type": "code",
      "source": [
        "missing_percentage = df.isna().sum() / len(df) * 100\n",
        "missing_percentage = missing_percentage[missing_percentage != 0]\n",
        "print(df.isna().sum(), missing_percentage)"
      ],
      "metadata": {
        "id": "A6MHuUgyNe25"
      },
      "execution_count": null,
      "outputs": []
    },
    {
      "cell_type": "code",
      "source": [
        "df.info()"
      ],
      "metadata": {
        "id": "5xrotjiQOHIK"
      },
      "execution_count": null,
      "outputs": []
    },
    {
      "cell_type": "code",
      "source": [
        "# Convert duration from milliseconds to seconds\n",
        "\n",
        "df['duration'] = df['duration_ms'].apply(lambda x: x / 1000)"
      ],
      "metadata": {
        "id": "WaOER3OqOenl"
      },
      "execution_count": null,
      "outputs": []
    },
    {
      "cell_type": "code",
      "source": [
        "# Split the columns into numerical and categorical\n",
        "\n",
        "numerical = [\n",
        "  'popularity', 'danceability', 'energy', 'key', 'loudness', 'mode', 'speechiness', 'acousticness', 'instrumentalness', 'liveness', 'valence', 'tempo', 'duration'\n",
        "]\n",
        "categorical = [\n",
        "  'trackname', 'artists'\n",
        "]"
      ],
      "metadata": {
        "id": "YuF7J14KOBaG"
      },
      "execution_count": null,
      "outputs": []
    },
    {
      "cell_type": "code",
      "source": [
        "# Popularity distribution\n",
        "\n",
        "sns.histplot(\n",
        "    data=df,\n",
        "    x='popularity',\n",
        "    color='orange'\n",
        ")"
      ],
      "metadata": {
        "id": "bLZucb5yPCzK"
      },
      "execution_count": null,
      "outputs": []
    },
    {
      "cell_type": "code",
      "source": [
        "# Histograms for all the numerical fields\n",
        "\n",
        "pal = iter(sns.color_palette(\"rocket\", n_colors=len(numerical)))\n",
        "plt.figure(figsize=(14, 12))\n",
        "for i, col in enumerate(numerical):\n",
        "    plt.subplot(4, int(len(numerical) / 4) + 1, i + 1)\n",
        "    sns.histplot(\n",
        "        x=str(col),\n",
        "        data=df,\n",
        "        color=next(pal),\n",
        "        bins= 20\n",
        "    )\n",
        "plt.tight_layout()"
      ],
      "metadata": {
        "id": "eEvGwgP_PYLw"
      },
      "execution_count": null,
      "outputs": []
    },
    {
      "cell_type": "code",
      "source": [
        "# Correlation matrix\n",
        "\n",
        "plt.figure(figsize=(10, 6))\n",
        "correlation_matrix = df.corr(numeric_only=True)\n",
        "sns.heatmap(correlation_matrix, xticklabels=correlation_matrix.columns, yticklabels=correlation_matrix.columns, annot=True)"
      ],
      "metadata": {
        "id": "6JTIgAI7P4se"
      },
      "execution_count": null,
      "outputs": []
    },
    {
      "cell_type": "code",
      "source": [
        "# Scatterplot for energy and loudness\n",
        "\n",
        "pal = iter(sns.color_palette(\"rocket\", n_colors=3))\n",
        "\n",
        "scatterplot_columns = [\n",
        "    ('energy', 'loudness'),\n",
        "    ('key', 'tempo'),\n",
        "    ('duration', 'instrumentalness')\n",
        "]\n",
        "\n",
        "plt.figure(figsize=(12, 4))\n",
        "\n",
        "for i, col in enumerate(range(3)):\n",
        "    plt.subplot(1, 3, i + 1)\n",
        "    sns.scatterplot(\n",
        "        data=df,\n",
        "        x=scatterplot_columns[i][0],\n",
        "        y=scatterplot_columns[i][1],\n",
        "        color=next(pal),\n",
        "    )\n",
        "plt.tight_layout()"
      ],
      "metadata": {
        "id": "TNVNKE3uqs3L"
      },
      "execution_count": null,
      "outputs": []
    },
    {
      "cell_type": "code",
      "source": [
        "from sklearn import preprocessing\n",
        "from sklearn.metrics import mean_squared_error\n",
        "from sklearn.model_selection import train_test_split\n",
        "from sklearn.model_selection import cross_val_score\n",
        "from sklearn.preprocessing import StandardScaler\n",
        "from sklearn.model_selection import StratifiedKFold\n",
        "from sklearn.tree import DecisionTreeClassifier\n",
        "from sklearn.ensemble import RandomForestClassifier\n",
        "from sklearn.svm import SVC\n",
        "from sklearn.linear_model import LogisticRegression\n",
        "\n",
        "models = [\n",
        "    ('Random Forest', RandomForestClassifier()),\n",
        "    ('Decision Tree', DecisionTreeClassifier()),\n",
        "    ('SVM', SVC()),\n",
        "    ('Logistic Regression', LogisticRegression())\n",
        "]"
      ],
      "metadata": {
        "id": "vKedBMbO62Th"
      },
      "execution_count": null,
      "outputs": []
    },
    {
      "cell_type": "code",
      "source": [
        "def fit_score_model(model, model_name, X_train, y_train, X_test, y_test):\n",
        "    model.fit(X_train, y_train.ravel()) # Fit the model\n",
        "    predictions = model.predict(X_test) # Predict the values\n",
        "    test_rmse = mean_squared_error(y_test, predictions, squared=False) # Calculate the Root Mean Square Error\n",
        "\n",
        "    score = model.score(X_test, y_test.ravel()) # Calculate the score\n",
        "\n",
        "    print(f\"Model Name: {model_name}, RMSE: {test_rmse}, Score: {score}\")"
      ],
      "metadata": {
        "id": "YFntqb4s6uVW"
      },
      "execution_count": null,
      "outputs": []
    },
    {
      "cell_type": "code",
      "source": [
        "df_model = df.drop(categorical, axis=1)\n",
        "\n",
        "df_model[\"popularity\"] = df_model[\"popularity\"].apply(lambda popularity: 1 if popularity >= 66.5 else 0 )\n",
        "df_model[\"popularity\"].value_counts()\n",
        "\n",
        "X = df_model.drop(['popularity'], axis=1)\n",
        "\n",
        "scaler = StandardScaler()\n",
        "X_normalized = scaler.fit_transform(X) # Scale the dataset\n",
        "\n",
        "y = df_model['popularity']\n",
        "\n",
        "X_train, X_test, y_train, y_test = train_test_split(X, y, test_size=0.3)\n",
        "\n",
        "\n",
        "for model_name, model in models:\n",
        "  fit_score_model(model, model_name, X_train, y_train, X_test, y_test)"
      ],
      "metadata": {
        "id": "TrMlK-HL7E0P"
      },
      "execution_count": null,
      "outputs": []
    }
  ]
}